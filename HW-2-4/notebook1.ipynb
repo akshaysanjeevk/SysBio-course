{
 "cells": [
  {
   "cell_type": "code",
   "execution_count": 25,
   "id": "9344c5f2",
   "metadata": {},
   "outputs": [],
   "source": [
    "\n",
    "import matplotlib.pyplot as plt\n",
    "import pandas as pd \n",
    "import numpy as np\n",
    "# from sklearn.impute import SimpleImputer\n",
    "# from sklearn.preprocessing import OneHotEncoder\n",
    "\n",
    "plt.rcParams['text.usetex'] = True\n",
    "df0 = pd.read_excel('CKD_agri_data.xls')\n"
   ]
  },
  {
   "cell_type": "markdown",
   "id": "742764f9",
   "metadata": {},
   "source": [
    "# Pre-Processing"
   ]
  },
  {
   "cell_type": "code",
   "execution_count": 26,
   "id": "c9b7317c",
   "metadata": {},
   "outputs": [],
   "source": [
    "df0.columns = (\n",
    "    df0.columns\n",
    "    .str.strip()\n",
    "    .str.lower()\n",
    "    .str.replace(' ', '_')\n",
    "    .str.replace('>', 'gt')\n",
    "    .str.replace('-', '_')\n",
    ")\n"
   ]
  },
  {
   "cell_type": "code",
   "execution_count": 27,
   "id": "b683824b",
   "metadata": {},
   "outputs": [
    {
     "data": {
      "text/html": [
       "<div>\n",
       "<style scoped>\n",
       "    .dataframe tbody tr th:only-of-type {\n",
       "        vertical-align: middle;\n",
       "    }\n",
       "\n",
       "    .dataframe tbody tr th {\n",
       "        vertical-align: top;\n",
       "    }\n",
       "\n",
       "    .dataframe thead th {\n",
       "        text-align: right;\n",
       "    }\n",
       "</style>\n",
       "<table border=\"1\" class=\"dataframe\">\n",
       "  <thead>\n",
       "    <tr style=\"text-align: right;\">\n",
       "      <th></th>\n",
       "      <th>scr_dat</th>\n",
       "      <th>zone</th>\n",
       "      <th>dist</th>\n",
       "      <th>cluster</th>\n",
       "      <th>hh</th>\n",
       "      <th>gebder</th>\n",
       "      <th>dob</th>\n",
       "      <th>religion</th>\n",
       "      <th>education</th>\n",
       "      <th>marital_status</th>\n",
       "      <th>...</th>\n",
       "      <th>urine_protein_sample_2</th>\n",
       "      <th>urine_blood_sample_2</th>\n",
       "      <th>creatinine_sample_2</th>\n",
       "      <th>ckd_epi_sample_2</th>\n",
       "      <th>gfr_cat_sample_2</th>\n",
       "      <th>albuminuria_sample_2</th>\n",
       "      <th>hematuria_sample_2</th>\n",
       "      <th>ckd_calculation_sample_2</th>\n",
       "      <th>ckd_final</th>\n",
       "      <th>ckdu</th>\n",
       "    </tr>\n",
       "  </thead>\n",
       "  <tbody>\n",
       "    <tr>\n",
       "      <th>0</th>\n",
       "      <td>2023-09-11</td>\n",
       "      <td>SOUTHERN ZONE</td>\n",
       "      <td>Madurai</td>\n",
       "      <td>CKDU001</td>\n",
       "      <td>1</td>\n",
       "      <td>Male</td>\n",
       "      <td>1953-09-11 00:00:00</td>\n",
       "      <td>Hindu</td>\n",
       "      <td>Primary</td>\n",
       "      <td>Married</td>\n",
       "      <td>...</td>\n",
       "      <td>Nil</td>\n",
       "      <td>Absent</td>\n",
       "      <td>1.1</td>\n",
       "      <td>70.442307</td>\n",
       "      <td>0.0</td>\n",
       "      <td>0.0</td>\n",
       "      <td>0.0</td>\n",
       "      <td>0.0</td>\n",
       "      <td>0</td>\n",
       "      <td>No CKD</td>\n",
       "    </tr>\n",
       "    <tr>\n",
       "      <th>1</th>\n",
       "      <td>1900-01-02</td>\n",
       "      <td>SOUTHERN ZONE</td>\n",
       "      <td>Madurai</td>\n",
       "      <td>CKDU001</td>\n",
       "      <td>10</td>\n",
       "      <td>Male</td>\n",
       "      <td>1960-10-05 00:00:00</td>\n",
       "      <td>Hindu</td>\n",
       "      <td>Primary</td>\n",
       "      <td>Married</td>\n",
       "      <td>...</td>\n",
       "      <td>SNG</td>\n",
       "      <td>SNG</td>\n",
       "      <td>SNG</td>\n",
       "      <td>NaN</td>\n",
       "      <td>0.0</td>\n",
       "      <td>0.0</td>\n",
       "      <td>0.0</td>\n",
       "      <td>0.0</td>\n",
       "      <td>0</td>\n",
       "      <td>No CKD</td>\n",
       "    </tr>\n",
       "    <tr>\n",
       "      <th>2</th>\n",
       "      <td>2023-09-11</td>\n",
       "      <td>SOUTHERN ZONE</td>\n",
       "      <td>Madurai</td>\n",
       "      <td>CKDU001</td>\n",
       "      <td>11</td>\n",
       "      <td>Male</td>\n",
       "      <td>1969-07-17 00:00:00</td>\n",
       "      <td>Hindu</td>\n",
       "      <td>Primary</td>\n",
       "      <td>Married</td>\n",
       "      <td>...</td>\n",
       "      <td>NaN</td>\n",
       "      <td>NaN</td>\n",
       "      <td>NaN</td>\n",
       "      <td>NaN</td>\n",
       "      <td>NaN</td>\n",
       "      <td>NaN</td>\n",
       "      <td>NaN</td>\n",
       "      <td>NaN</td>\n",
       "      <td>0</td>\n",
       "      <td>No CKD</td>\n",
       "    </tr>\n",
       "    <tr>\n",
       "      <th>3</th>\n",
       "      <td>2023-09-11</td>\n",
       "      <td>SOUTHERN ZONE</td>\n",
       "      <td>Madurai</td>\n",
       "      <td>CKDU001</td>\n",
       "      <td>12</td>\n",
       "      <td>Male</td>\n",
       "      <td>1983-07-13 00:00:00</td>\n",
       "      <td>Hindu</td>\n",
       "      <td>Primary</td>\n",
       "      <td>Married</td>\n",
       "      <td>...</td>\n",
       "      <td>NaN</td>\n",
       "      <td>NaN</td>\n",
       "      <td>NaN</td>\n",
       "      <td>NaN</td>\n",
       "      <td>NaN</td>\n",
       "      <td>NaN</td>\n",
       "      <td>NaN</td>\n",
       "      <td>NaN</td>\n",
       "      <td>0</td>\n",
       "      <td>No CKD</td>\n",
       "    </tr>\n",
       "    <tr>\n",
       "      <th>4</th>\n",
       "      <td>2023-09-11</td>\n",
       "      <td>SOUTHERN ZONE</td>\n",
       "      <td>Madurai</td>\n",
       "      <td>CKDU001</td>\n",
       "      <td>13</td>\n",
       "      <td>Male</td>\n",
       "      <td>1958-06-07 00:00:00</td>\n",
       "      <td>Hindu</td>\n",
       "      <td>Primary</td>\n",
       "      <td>Married</td>\n",
       "      <td>...</td>\n",
       "      <td>NaN</td>\n",
       "      <td>NaN</td>\n",
       "      <td>NaN</td>\n",
       "      <td>NaN</td>\n",
       "      <td>NaN</td>\n",
       "      <td>NaN</td>\n",
       "      <td>NaN</td>\n",
       "      <td>NaN</td>\n",
       "      <td>0</td>\n",
       "      <td>No CKD</td>\n",
       "    </tr>\n",
       "    <tr>\n",
       "      <th>...</th>\n",
       "      <td>...</td>\n",
       "      <td>...</td>\n",
       "      <td>...</td>\n",
       "      <td>...</td>\n",
       "      <td>...</td>\n",
       "      <td>...</td>\n",
       "      <td>...</td>\n",
       "      <td>...</td>\n",
       "      <td>...</td>\n",
       "      <td>...</td>\n",
       "      <td>...</td>\n",
       "      <td>...</td>\n",
       "      <td>...</td>\n",
       "      <td>...</td>\n",
       "      <td>...</td>\n",
       "      <td>...</td>\n",
       "      <td>...</td>\n",
       "      <td>...</td>\n",
       "      <td>...</td>\n",
       "      <td>...</td>\n",
       "      <td>...</td>\n",
       "    </tr>\n",
       "    <tr>\n",
       "      <th>3345</th>\n",
       "      <td>2023-09-09</td>\n",
       "      <td>CAUVERY DELTA ZONE</td>\n",
       "      <td>Tiruvarur</td>\n",
       "      <td>CKDU125</td>\n",
       "      <td>5</td>\n",
       "      <td>Female</td>\n",
       "      <td>2023-09-09 00:00:00</td>\n",
       "      <td>Hindu</td>\n",
       "      <td>Primary</td>\n",
       "      <td>Married</td>\n",
       "      <td>...</td>\n",
       "      <td>SNG</td>\n",
       "      <td>SNG</td>\n",
       "      <td>SNG</td>\n",
       "      <td>NaN</td>\n",
       "      <td>0.0</td>\n",
       "      <td>0.0</td>\n",
       "      <td>0.0</td>\n",
       "      <td>0.0</td>\n",
       "      <td>0</td>\n",
       "      <td>No CKD</td>\n",
       "    </tr>\n",
       "    <tr>\n",
       "      <th>3346</th>\n",
       "      <td>2023-09-09</td>\n",
       "      <td>CAUVERY DELTA ZONE</td>\n",
       "      <td>Tiruvarur</td>\n",
       "      <td>CKDU125</td>\n",
       "      <td>6</td>\n",
       "      <td>Female</td>\n",
       "      <td>2023-09-09 00:00:00</td>\n",
       "      <td>Hindu</td>\n",
       "      <td>Primary</td>\n",
       "      <td>Married</td>\n",
       "      <td>...</td>\n",
       "      <td>NaN</td>\n",
       "      <td>NaN</td>\n",
       "      <td>NaN</td>\n",
       "      <td>NaN</td>\n",
       "      <td>NaN</td>\n",
       "      <td>NaN</td>\n",
       "      <td>NaN</td>\n",
       "      <td>NaN</td>\n",
       "      <td>0</td>\n",
       "      <td>No CKD</td>\n",
       "    </tr>\n",
       "    <tr>\n",
       "      <th>3347</th>\n",
       "      <td>2023-09-09</td>\n",
       "      <td>CAUVERY DELTA ZONE</td>\n",
       "      <td>Tiruvarur</td>\n",
       "      <td>CKDU125</td>\n",
       "      <td>7</td>\n",
       "      <td>Female</td>\n",
       "      <td>1973-09-09 00:00:00</td>\n",
       "      <td>Hindu</td>\n",
       "      <td>Primary</td>\n",
       "      <td>Married</td>\n",
       "      <td>...</td>\n",
       "      <td>NaN</td>\n",
       "      <td>NaN</td>\n",
       "      <td>NaN</td>\n",
       "      <td>NaN</td>\n",
       "      <td>NaN</td>\n",
       "      <td>NaN</td>\n",
       "      <td>NaN</td>\n",
       "      <td>NaN</td>\n",
       "      <td>0</td>\n",
       "      <td>No CKD</td>\n",
       "    </tr>\n",
       "    <tr>\n",
       "      <th>3348</th>\n",
       "      <td>2023-09-09</td>\n",
       "      <td>CAUVERY DELTA ZONE</td>\n",
       "      <td>Tiruvarur</td>\n",
       "      <td>CKDU125</td>\n",
       "      <td>8</td>\n",
       "      <td>Male</td>\n",
       "      <td>1971-07-01 00:00:00</td>\n",
       "      <td>Hindu</td>\n",
       "      <td>Primary</td>\n",
       "      <td>Married</td>\n",
       "      <td>...</td>\n",
       "      <td>SNG</td>\n",
       "      <td>SNG</td>\n",
       "      <td>SNG</td>\n",
       "      <td>NaN</td>\n",
       "      <td>0.0</td>\n",
       "      <td>0.0</td>\n",
       "      <td>0.0</td>\n",
       "      <td>0.0</td>\n",
       "      <td>0</td>\n",
       "      <td>No CKD</td>\n",
       "    </tr>\n",
       "    <tr>\n",
       "      <th>3349</th>\n",
       "      <td>2023-09-09</td>\n",
       "      <td>CAUVERY DELTA ZONE</td>\n",
       "      <td>Tiruvarur</td>\n",
       "      <td>CKDU125</td>\n",
       "      <td>9</td>\n",
       "      <td>Female</td>\n",
       "      <td>2023-09-09 00:00:00</td>\n",
       "      <td>Hindu</td>\n",
       "      <td>NaN</td>\n",
       "      <td>NaN</td>\n",
       "      <td>...</td>\n",
       "      <td>NaN</td>\n",
       "      <td>NaN</td>\n",
       "      <td>NaN</td>\n",
       "      <td>NaN</td>\n",
       "      <td>NaN</td>\n",
       "      <td>NaN</td>\n",
       "      <td>NaN</td>\n",
       "      <td>NaN</td>\n",
       "      <td>0</td>\n",
       "      <td>No CKD</td>\n",
       "    </tr>\n",
       "  </tbody>\n",
       "</table>\n",
       "<p>3350 rows × 151 columns</p>\n",
       "</div>"
      ],
      "text/plain": [
       "        scr_dat                zone       dist  cluster  hh  gebder  \\\n",
       "0    2023-09-11       SOUTHERN ZONE    Madurai  CKDU001   1    Male   \n",
       "1    1900-01-02       SOUTHERN ZONE    Madurai  CKDU001  10    Male   \n",
       "2    2023-09-11       SOUTHERN ZONE    Madurai  CKDU001  11    Male   \n",
       "3    2023-09-11       SOUTHERN ZONE    Madurai  CKDU001  12    Male   \n",
       "4    2023-09-11       SOUTHERN ZONE    Madurai  CKDU001  13    Male   \n",
       "...         ...                 ...        ...      ...  ..     ...   \n",
       "3345 2023-09-09  CAUVERY DELTA ZONE  Tiruvarur  CKDU125   5  Female   \n",
       "3346 2023-09-09  CAUVERY DELTA ZONE  Tiruvarur  CKDU125   6  Female   \n",
       "3347 2023-09-09  CAUVERY DELTA ZONE  Tiruvarur  CKDU125   7  Female   \n",
       "3348 2023-09-09  CAUVERY DELTA ZONE  Tiruvarur  CKDU125   8    Male   \n",
       "3349 2023-09-09  CAUVERY DELTA ZONE  Tiruvarur  CKDU125   9  Female   \n",
       "\n",
       "                      dob religion education marital_status  ...  \\\n",
       "0     1953-09-11 00:00:00    Hindu   Primary        Married  ...   \n",
       "1     1960-10-05 00:00:00    Hindu   Primary        Married  ...   \n",
       "2     1969-07-17 00:00:00    Hindu   Primary        Married  ...   \n",
       "3     1983-07-13 00:00:00    Hindu   Primary        Married  ...   \n",
       "4     1958-06-07 00:00:00    Hindu   Primary        Married  ...   \n",
       "...                   ...      ...       ...            ...  ...   \n",
       "3345  2023-09-09 00:00:00    Hindu   Primary        Married  ...   \n",
       "3346  2023-09-09 00:00:00    Hindu   Primary        Married  ...   \n",
       "3347  1973-09-09 00:00:00    Hindu   Primary        Married  ...   \n",
       "3348  1971-07-01 00:00:00    Hindu   Primary        Married  ...   \n",
       "3349  2023-09-09 00:00:00    Hindu       NaN            NaN  ...   \n",
       "\n",
       "      urine_protein_sample_2  urine_blood_sample_2  creatinine_sample_2  \\\n",
       "0                        Nil                Absent                  1.1   \n",
       "1                        SNG                   SNG                  SNG   \n",
       "2                        NaN                   NaN                  NaN   \n",
       "3                        NaN                   NaN                  NaN   \n",
       "4                        NaN                   NaN                  NaN   \n",
       "...                      ...                   ...                  ...   \n",
       "3345                     SNG                   SNG                  SNG   \n",
       "3346                     NaN                   NaN                  NaN   \n",
       "3347                     NaN                   NaN                  NaN   \n",
       "3348                     SNG                   SNG                  SNG   \n",
       "3349                     NaN                   NaN                  NaN   \n",
       "\n",
       "      ckd_epi_sample_2  gfr_cat_sample_2 albuminuria_sample_2  \\\n",
       "0            70.442307               0.0                  0.0   \n",
       "1                  NaN               0.0                  0.0   \n",
       "2                  NaN               NaN                  NaN   \n",
       "3                  NaN               NaN                  NaN   \n",
       "4                  NaN               NaN                  NaN   \n",
       "...                ...               ...                  ...   \n",
       "3345               NaN               0.0                  0.0   \n",
       "3346               NaN               NaN                  NaN   \n",
       "3347               NaN               NaN                  NaN   \n",
       "3348               NaN               0.0                  0.0   \n",
       "3349               NaN               NaN                  NaN   \n",
       "\n",
       "     hematuria_sample_2  ckd_calculation_sample_2 ckd_final    ckdu  \n",
       "0                   0.0                       0.0         0  No CKD  \n",
       "1                   0.0                       0.0         0  No CKD  \n",
       "2                   NaN                       NaN         0  No CKD  \n",
       "3                   NaN                       NaN         0  No CKD  \n",
       "4                   NaN                       NaN         0  No CKD  \n",
       "...                 ...                       ...       ...     ...  \n",
       "3345                0.0                       0.0         0  No CKD  \n",
       "3346                NaN                       NaN         0  No CKD  \n",
       "3347                NaN                       NaN         0  No CKD  \n",
       "3348                0.0                       0.0         0  No CKD  \n",
       "3349                NaN                       NaN         0  No CKD  \n",
       "\n",
       "[3350 rows x 151 columns]"
      ]
     },
     "execution_count": 27,
     "metadata": {},
     "output_type": "execute_result"
    }
   ],
   "source": [
    "df0"
   ]
  },
  {
   "cell_type": "markdown",
   "id": "0076b201",
   "metadata": {},
   "source": [
    "## Column wise Missing Fraction"
   ]
  },
  {
   "cell_type": "code",
   "execution_count": 28,
   "id": "abbb0345",
   "metadata": {},
   "outputs": [
    {
     "data": {
      "image/png": "[encoded data removed]",
      "text/plain": [
       "<Figure size 1000x400 with 1 Axes>"
      ]
     },
     "metadata": {},
     "output_type": "display_data"
    }
   ],
   "source": [
    "missing_frac = df0.isnull().mean().sort_values(ascending=False)\n",
    "\n",
    "\n",
    "\n",
    "plt.figure(figsize=(10, 4))\n",
    "plt.plot(missing_frac.values, 'o', alpha=0.8, color='red', markersize=3)\n",
    "plt.plot(missing_frac.values, '-', alpha=0.5, color='black', markersize=3)\n",
    "plt.xticks([])\n",
    "plt.ylabel('Fraction of Missing data')\n",
    "plt.hlines(0.4, 0, len(missing_frac)-1, colors='blue', linestyles='dashed')\n",
    "plt.text(60, .8, rf'\\#Features ( missing data$<.4)= {np.sum(missing_frac<.4)}$')\n",
    "plt.title('Missing fraction of Columns')\n",
    "plt.show()\n",
    "\n"
   ]
  },
  {
   "cell_type": "code",
   "execution_count": 29,
   "id": "2782db6b",
   "metadata": {},
   "outputs": [],
   "source": [
    "# for col, frac in missing_frac.items():\n",
    "#     if frac < 0.4:\n",
    "#         print(f\"{col}: {frac:.2f}\")\n"
   ]
  },
  {
   "cell_type": "code",
   "execution_count": 30,
   "id": "1604d4b3",
   "metadata": {},
   "outputs": [],
   "source": [
    "\n",
    "cols_to_keep = missing_frac[missing_frac < 0.4].keys()\n",
    "df1 = df0.loc[:, cols_to_keep]\n",
    "# df1\n"
   ]
  },
  {
   "cell_type": "markdown",
   "id": "b8119f9b",
   "metadata": {},
   "source": [
    "## Row wise missing fraction\n"
   ]
  },
  {
   "cell_type": "code",
   "execution_count": 31,
   "id": "ac39fd9a",
   "metadata": {},
   "outputs": [
    {
     "name": "stderr",
     "output_type": "stream",
     "text": [
      "<>:10: SyntaxWarning: invalid escape sequence '\\#'\n",
      "<>:10: SyntaxWarning: invalid escape sequence '\\#'\n",
      "C:\\Users\\aksha\\AppData\\Local\\Temp\\ipykernel_20776\\2876202950.py:10: SyntaxWarning: invalid escape sequence '\\#'\n",
      "  plt.text(2000, .5, f'\\#Rows ( missing data$<.2)= {np.sum(df2['missing_frac_row']<.2)}$')\n"
     ]
    },
    {
     "data": {
      "image/png": "[encoded data removed]",
      "text/plain": [
       "<Figure size 1000x400 with 1 Axes>"
      ]
     },
     "metadata": {},
     "output_type": "display_data"
    }
   ],
   "source": [
    "\n",
    "df1['missing_frac_row'] = df1.isnull().mean(axis=1)\n",
    "df2 = df1.sort_values(by='missing_frac_row', ascending=True)\n",
    "\n",
    "plt.figure(figsize=(10, 4))\n",
    "plt.plot(df2['missing_frac_row'].values, '-', alpha=0.5, color='black', markersize=3)\n",
    "plt.plot(df2['missing_frac_row'].values, 'o', alpha=0.8, color='red', markersize=1)\n",
    "plt.xticks([])\n",
    "plt.ylabel('Fraction of Missing data')\n",
    "plt.hlines(0.1, 0, len(df2['missing_frac_row'])-1, colors='blue', linestyles='dashed')\n",
    "plt.text(2000, .5, f'\\#Rows ( missing data$<.2)= {np.sum(df2['missing_frac_row']<.2)}$')\n",
    "plt.title('Missing fraction of Rows')\n",
    "plt.show()\n",
    "\n",
    "\n"
   ]
  },
  {
   "cell_type": "code",
   "execution_count": 32,
   "id": "0ab7443a",
   "metadata": {},
   "outputs": [],
   "source": [
    "faulty_rows = np.sum(df2['missing_frac_row']<.2)\n",
    "df2 = df2.iloc[-faulty_rows :]"
   ]
  },
  {
   "cell_type": "code",
   "execution_count": 33,
   "id": "e8937163",
   "metadata": {},
   "outputs": [
    {
     "data": {
      "image/png": "[encoded data removed]",
      "text/plain": [
       "<Figure size 800x400 with 2 Axes>"
      ]
     },
     "metadata": {},
     "output_type": "display_data"
    }
   ],
   "source": [
    "# Out\n",
    "\n",
    "fig, axes = plt.subplots(2,1, figsize=(8, 4))\n",
    "\n",
    "# Columns\n",
    "axes[0].plot(missing_frac.values, 'o', alpha=0.8, color='red', markersize=4)\n",
    "axes[0].plot(missing_frac.values, '-', alpha=0.5, color='black')\n",
    "axes[0].set_xticks([])\n",
    "axes[1].set_ylim(-.1,1)\n",
    "axes[0].set_xlabel('Columns')\n",
    "axes[0].set_ylabel('Fraction of Missing data')\n",
    "axes[0].hlines(0.4, 0, len(missing_frac)-1, colors='blue', linestyles='dashed')\n",
    "axes[0].text(60, .5, rf'\\#Features ( missing data$<.4)= {np.sum(missing_frac<.4)}$')\n",
    "axes[0].set_title('Missing fraction of Columns')\n",
    "\n",
    "# Rows\n",
    "axes[1].plot(df2['missing_frac_row'].values, 'o', alpha=0.8, color='red', markersize=4)\n",
    "axes[1].plot(df2['missing_frac_row'].values, '-', alpha=0.5, color='black')\n",
    "axes[1].set_xticks([])\n",
    "axes[1].set_xlabel('Rows')\n",
    "axes[1].set_ylabel('Fraction of Missing data')\n",
    "axes[1].set_ylim(-.1,1)\n",
    "axes[1].hlines(0.1, 0, len(df2['missing_frac_row'])-1, colors='blue', linestyles='dashed')\n",
    "# Fix here:\n",
    "axes[1].text(2000, .5, rf'\\#Rows ( missing data$<.2)= {np.sum(df2[\"missing_frac_row\"]<.2)}$')\n",
    "axes[1].set_title('Missing fraction of Rows')\n",
    "\n",
    "plt.tight_layout()\n",
    "plt.savefig('pp_frac.pdf')\n",
    "plt.show()\n"
   ]
  },
  {
   "cell_type": "markdown",
   "id": "dd3d9cc0",
   "metadata": {},
   "source": [
    "## Clean-up"
   ]
  },
  {
   "cell_type": "code",
   "execution_count": 34,
   "id": "3a93faaf",
   "metadata": {},
   "outputs": [],
   "source": [
    "df3 = df2 #reset point"
   ]
  },
  {
   "cell_type": "code",
   "execution_count": 37,
   "id": "4db8189b",
   "metadata": {},
   "outputs": [
    {
     "name": "stdout",
     "output_type": "stream",
     "text": [
      "done!\n"
     ]
    }
   ],
   "source": [
    "# renaming the `ht` columns\n",
    "cols = df3.columns.tolist()\n",
    "ht_count = 1\n",
    "new_cols = []\n",
    "for col in cols:\n",
    "    if col == 'ht':\n",
    "        new_cols.append(f'ht{ht_count}')\n",
    "        ht_count += 1\n",
    "    else:\n",
    "        new_cols.append(col)\n",
    "df3.columns = new_cols\n",
    "\n",
    "\n",
    "# replacing nil with 0\n",
    "df3['urine_blood'].replace('nil', 0)\n",
    "df3['urine_albumin'].replace('nil', 0)\n",
    "\n",
    "\n",
    "# replacing nil with 0\n",
    "df3['urine_blood'].replace(0, df3['urine_blood'].median)\n",
    "df3['urine_albumin'].replace(0, df3['urine_albumin'].median)\n",
    "print('done!')"
   ]
  },
  {
   "cell_type": "markdown",
   "id": "1fd0a7b4",
   "metadata": {},
   "source": [
    "## Imputation and Scaling"
   ]
  },
  {
   "cell_type": "code",
   "execution_count": 10,
   "id": "ad431aad",
   "metadata": {},
   "outputs": [],
   "source": [
    "numeric_cols = []\n",
    "categor_cols = []\n",
    "left_cols = []\n",
    "for col in df3.columns:\n",
    "    coerced = pd.to_numeric(df3[col], errors='coerce')\n",
    "    n_total = len(coerced)\n",
    "    n_numeric = coerced.notna().sum()\n",
    "    numeric_fraction = n_numeric / n_total\n",
    "    \n",
    "    if numeric_fraction > 0.01:  \n",
    "        df3[col] = coerced\n",
    "        # print(f\"Column '{col}' {numeric_fraction:.2%} \")\n",
    "        numeric_cols.append(col)\n",
    "    elif numeric_fraction <0.01 and numeric_fraction!=0:\n",
    "        # print(f\"Column '{col}' left unchanged (only {numeric_fraction:.2%} numeric values).\")\n",
    "        left_cols.append(col)\n",
    "    else:\n",
    "        categor_cols.append(col)\n",
    "\n",
    "numeric_cols = df3.select_dtypes(include=['number']).columns.tolist()\n",
    "categorical_cols = df3.select_dtypes(exclude=['number']).columns.tolist()"
   ]
  },
  {
   "cell_type": "code",
   "execution_count": 11,
   "id": "8af713cd",
   "metadata": {},
   "outputs": [
    {
     "name": "stdout",
     "output_type": "stream",
     "text": [
      "Numeric Features = 46\n",
      "Categoric Features = 54\n",
      "Unchanged Features = 0\n"
     ]
    }
   ],
   "source": [
    "print(f'Numeric Features = {len(numeric_cols)}')\n",
    "print(f'Categoric Features = {len(categor_cols)}')\n",
    "print(f'Unchanged Features = {len(left_cols)}')"
   ]
  },
  {
   "cell_type": "code",
   "execution_count": null,
   "id": "36ebfb69",
   "metadata": {},
   "outputs": [],
   "source": [
    "print(f'Numeric Features = {len(numeric_cols)}')"
   ]
  },
  {
   "cell_type": "markdown",
   "id": "5ba16612",
   "metadata": {},
   "source": [
    "# Classification"
   ]
  },
  {
   "cell_type": "code",
   "execution_count": 2,
   "id": "c3ec933f",
   "metadata": {},
   "outputs": [],
   "source": [
    "dfnum = pd.read_csv('numeric_data_agri.csv')\n",
    "# dfnum['ckd_code_sample_1']"
   ]
  },
  {
   "cell_type": "code",
   "execution_count": null,
   "id": "9c5c5de1",
   "metadata": {},
   "outputs": [],
   "source": []
  },
  {
   "cell_type": "markdown",
   "id": "3ca8a354",
   "metadata": {},
   "source": [
    "## Random Forest"
   ]
  },
  {
   "cell_type": "code",
   "execution_count": 3,
   "id": "2cc39489",
   "metadata": {},
   "outputs": [],
   "source": [
    "from sklearn.model_selection import train_test_split\n",
    "from sklearn.ensemble import RandomForestClassifier\n",
    "from sklearn.metrics import classification_report, confusion_matrix, ConfusionMatrixDisplay\n"
   ]
  },
  {
   "cell_type": "code",
   "execution_count": null,
   "id": "1ead7d4a",
   "metadata": {},
   "outputs": [],
   "source": [
    "df_clean =dfnum.dropna(subset=['ckd_code_sample_1'])\n",
    "X =df_clean.drop(columns=['ckd_code_sample_1', 'ckd__probable_sample_1', 'ckd_epi_sample_1' ])\n",
    "y =df_clean['ckd_code_sample_1']\n",
    "\n",
    "\n",
    "X_train, X_test, y_train, y_test = train_test_split(\n",
    "    X, y, test_size=0.2, stratify=y\n",
    ")\n",
    "\n",
    "clf = RandomForestClassifier(\n",
    "    n_estimators=100, \n",
    "    random_state=42, \n",
    "    class_weight='balanced'  \n",
    ")\n",
    "clf.fit(X_train, y_train)\n",
    "y_pred = clf.predict(X_test)\n",
    "\n",
    "print(classification_report(y_test, y_pred))\n",
    "\n",
    "print(confusion_matrix(y_test, y_pred))\n",
    "\n",
    "\n"
   ]
  },
  {
   "cell_type": "code",
   "execution_count": null,
   "id": "1c0d8c0b",
   "metadata": {},
   "outputs": [
    {
     "data": {
      "image/png": "[encoded data removed]",
      "text/plain": [
       "<Figure size 640x480 with 2 Axes>"
      ]
     },
     "metadata": {},
     "output_type": "display_data"
    }
   ],
   "source": [
    "\n",
    "cm = confusion_matrix(y_test, y_pred)\n",
    "\n",
    "disp = ConfusionMatrixDisplay(confusion_matrix=cm)\n",
    "disp.plot(cmap='Blues', values_format='d')\n",
    "\n",
    "plt.title(\"Random Forest Confusion Matrix\")\n",
    "plt.show()\n"
   ]
  },
  {
   "cell_type": "code",
   "execution_count": 105,
   "id": "6f712028",
   "metadata": {},
   "outputs": [
    {
     "data": {
      "image/png": "[encoded data removed]",
      "text/plain": [
       "<Figure size 1200x500 with 1 Axes>"
      ]
     },
     "metadata": {},
     "output_type": "display_data"
    }
   ],
   "source": [
    "\n",
    "importances = pd.Series(clf.feature_importances_, index=X.columns)\n",
    "importances.sort_values(ascending=False).plot(kind='bar', figsize=(12, 5))\n",
    "plt.title(\"Feature Importance\")\n",
    "plt.ylabel(\"Score\")\n",
    "plt.tight_layout()\n",
    "plt.show()\n"
   ]
  },
  {
   "cell_type": "markdown",
   "id": "dd052f5e",
   "metadata": {},
   "source": [
    "## Dense Neural Netowrk"
   ]
  },
  {
   "cell_type": "code",
   "execution_count": 11,
   "id": "e251e678",
   "metadata": {},
   "outputs": [],
   "source": [
    "from sklearn.model_selection import train_test_split"
   ]
  },
  {
   "cell_type": "code",
   "execution_count": 6,
   "id": "01be6106",
   "metadata": {},
   "outputs": [],
   "source": [
    "df_clean =dfnum.dropna(subset=['ckd_code_sample_1'])\n",
    "X =df_clean.drop(columns=['ckd_code_sample_1', 'ckd__probable_sample_1', 'ckd_epi_sample_1' ])\n",
    "y =df_clean['ckd_code_sample_1']\n",
    "\n",
    "\n",
    "X_train, X_test, y_train, y_test = train_test_split(\n",
    "    X, y, test_size=0.2, stratify=y\n",
    ")"
   ]
  },
  {
   "cell_type": "code",
   "execution_count": 10,
   "id": "70b889a3",
   "metadata": {},
   "outputs": [
    {
     "name": "stdout",
     "output_type": "stream",
     "text": [
      "Epoch 1/20\n"
     ]
    },
    {
     "name": "stderr",
     "output_type": "stream",
     "text": [
      "c:\\Users\\aksha\\.conda\\envs\\py311\\Lib\\site-packages\\keras\\src\\layers\\core\\dense.py:93: UserWarning: Do not pass an `input_shape`/`input_dim` argument to a layer. When using Sequential models, prefer using an `Input(shape)` object as the first layer in the model instead.\n",
      "  super().__init__(activity_regularizer=activity_regularizer, **kwargs)\n"
     ]
    },
    {
     "name": "stdout",
     "output_type": "stream",
     "text": [
      "\u001b[1m84/84\u001b[0m \u001b[32m━━━━━━━━━━━━━━━━━━━━\u001b[0m\u001b[37m\u001b[0m \u001b[1m1s\u001b[0m 4ms/step - accuracy: 0.7968 - loss: 0.5437 - val_accuracy: 0.8081 - val_loss: 0.5017\n",
      "Epoch 2/20\n",
      "\u001b[1m84/84\u001b[0m \u001b[32m━━━━━━━━━━━━━━━━━━━━\u001b[0m\u001b[37m\u001b[0m \u001b[1m0s\u001b[0m 3ms/step - accuracy: 0.8070 - loss: 0.5067 - val_accuracy: 0.8081 - val_loss: 0.5026\n",
      "Epoch 3/20\n",
      "\u001b[1m84/84\u001b[0m \u001b[32m━━━━━━━━━━━━━━━━━━━━\u001b[0m\u001b[37m\u001b[0m \u001b[1m0s\u001b[0m 2ms/step - accuracy: 0.8126 - loss: 0.5015 - val_accuracy: 0.8081 - val_loss: 0.5057\n",
      "Epoch 4/20\n",
      "\u001b[1m84/84\u001b[0m \u001b[32m━━━━━━━━━━━━━━━━━━━━\u001b[0m\u001b[37m\u001b[0m \u001b[1m0s\u001b[0m 3ms/step - accuracy: 0.8056 - loss: 0.5077 - val_accuracy: 0.8081 - val_loss: 0.5016\n",
      "Epoch 5/20\n",
      "\u001b[1m84/84\u001b[0m \u001b[32m━━━━━━━━━━━━━━━━━━━━\u001b[0m\u001b[37m\u001b[0m \u001b[1m0s\u001b[0m 2ms/step - accuracy: 0.7936 - loss: 0.5265 - val_accuracy: 0.8081 - val_loss: 0.5017\n",
      "Epoch 6/20\n",
      "\u001b[1m84/84\u001b[0m \u001b[32m━━━━━━━━━━━━━━━━━━━━\u001b[0m\u001b[37m\u001b[0m \u001b[1m0s\u001b[0m 2ms/step - accuracy: 0.8081 - loss: 0.5002 - val_accuracy: 0.8081 - val_loss: 0.5024\n",
      "Epoch 7/20\n",
      "\u001b[1m84/84\u001b[0m \u001b[32m━━━━━━━━━━━━━━━━━━━━\u001b[0m\u001b[37m\u001b[0m \u001b[1m0s\u001b[0m 2ms/step - accuracy: 0.8026 - loss: 0.5110 - val_accuracy: 0.8081 - val_loss: 0.5018\n",
      "Epoch 8/20\n",
      "\u001b[1m84/84\u001b[0m \u001b[32m━━━━━━━━━━━━━━━━━━━━\u001b[0m\u001b[37m\u001b[0m \u001b[1m0s\u001b[0m 2ms/step - accuracy: 0.8037 - loss: 0.5113 - val_accuracy: 0.8081 - val_loss: 0.5018\n",
      "Epoch 9/20\n",
      "\u001b[1m84/84\u001b[0m \u001b[32m━━━━━━━━━━━━━━━━━━━━\u001b[0m\u001b[37m\u001b[0m \u001b[1m0s\u001b[0m 2ms/step - accuracy: 0.8117 - loss: 0.5016 - val_accuracy: 0.8081 - val_loss: 0.5027\n",
      "Epoch 10/20\n",
      "\u001b[1m84/84\u001b[0m \u001b[32m━━━━━━━━━━━━━━━━━━━━\u001b[0m\u001b[37m\u001b[0m \u001b[1m0s\u001b[0m 2ms/step - accuracy: 0.7949 - loss: 0.5227 - val_accuracy: 0.8081 - val_loss: 0.5020\n",
      "Epoch 11/20\n",
      "\u001b[1m84/84\u001b[0m \u001b[32m━━━━━━━━━━━━━━━━━━━━\u001b[0m\u001b[37m\u001b[0m \u001b[1m0s\u001b[0m 2ms/step - accuracy: 0.8007 - loss: 0.5127 - val_accuracy: 0.8081 - val_loss: 0.5021\n",
      "Epoch 12/20\n",
      "\u001b[1m84/84\u001b[0m \u001b[32m━━━━━━━━━━━━━━━━━━━━\u001b[0m\u001b[37m\u001b[0m \u001b[1m0s\u001b[0m 2ms/step - accuracy: 0.7999 - loss: 0.5266 - val_accuracy: 0.8081 - val_loss: 0.5049\n",
      "Epoch 13/20\n",
      "\u001b[1m84/84\u001b[0m \u001b[32m━━━━━━━━━━━━━━━━━━━━\u001b[0m\u001b[37m\u001b[0m \u001b[1m0s\u001b[0m 2ms/step - accuracy: 0.7985 - loss: 0.5236 - val_accuracy: 0.8081 - val_loss: 0.5017\n",
      "Epoch 14/20\n",
      "\u001b[1m84/84\u001b[0m \u001b[32m━━━━━━━━━━━━━━━━━━━━\u001b[0m\u001b[37m\u001b[0m \u001b[1m0s\u001b[0m 2ms/step - accuracy: 0.8091 - loss: 0.5054 - val_accuracy: 0.8081 - val_loss: 0.5043\n",
      "Epoch 15/20\n",
      "\u001b[1m84/84\u001b[0m \u001b[32m━━━━━━━━━━━━━━━━━━━━\u001b[0m\u001b[37m\u001b[0m \u001b[1m0s\u001b[0m 2ms/step - accuracy: 0.8061 - loss: 0.5095 - val_accuracy: 0.8081 - val_loss: 0.5020\n",
      "Epoch 16/20\n",
      "\u001b[1m84/84\u001b[0m \u001b[32m━━━━━━━━━━━━━━━━━━━━\u001b[0m\u001b[37m\u001b[0m \u001b[1m0s\u001b[0m 2ms/step - accuracy: 0.8029 - loss: 0.5081 - val_accuracy: 0.8081 - val_loss: 0.5018\n",
      "Epoch 17/20\n",
      "\u001b[1m84/84\u001b[0m \u001b[32m━━━━━━━━━━━━━━━━━━━━\u001b[0m\u001b[37m\u001b[0m \u001b[1m0s\u001b[0m 2ms/step - accuracy: 0.8114 - loss: 0.4973 - val_accuracy: 0.8081 - val_loss: 0.5018\n",
      "Epoch 18/20\n",
      "\u001b[1m84/84\u001b[0m \u001b[32m━━━━━━━━━━━━━━━━━━━━\u001b[0m\u001b[37m\u001b[0m \u001b[1m0s\u001b[0m 2ms/step - accuracy: 0.8086 - loss: 0.5015 - val_accuracy: 0.8081 - val_loss: 0.5052\n",
      "Epoch 19/20\n",
      "\u001b[1m84/84\u001b[0m \u001b[32m━━━━━━━━━━━━━━━━━━━━\u001b[0m\u001b[37m\u001b[0m \u001b[1m0s\u001b[0m 2ms/step - accuracy: 0.8074 - loss: 0.5038 - val_accuracy: 0.8081 - val_loss: 0.5017\n",
      "Epoch 20/20\n",
      "\u001b[1m84/84\u001b[0m \u001b[32m━━━━━━━━━━━━━━━━━━━━\u001b[0m\u001b[37m\u001b[0m \u001b[1m0s\u001b[0m 2ms/step - accuracy: 0.8097 - loss: 0.4983 - val_accuracy: 0.8081 - val_loss: 0.5017\n"
     ]
    },
    {
     "data": {
      "text/plain": [
       "<keras.src.callbacks.history.History at 0x194d7312dd0>"
      ]
     },
     "execution_count": 10,
     "metadata": {},
     "output_type": "execute_result"
    }
   ],
   "source": [
    "from tensorflow.keras import Sequential\n",
    "from tensorflow.keras.layers import Dense, Dropout\n",
    "from tensorflow.keras.optimizers import Adam\n",
    "\n",
    "model = Sequential([\n",
    "    Dense(128, activation='relu', input_shape=(X_train.shape[1],)),\n",
    "    Dropout(0.3),\n",
    "    Dense(64, activation='relu'),\n",
    "    Dropout(0.3),\n",
    "    Dense(1, activation='sigmoid')  # or Dense(num_classes, activation='softmax') for multi-class\n",
    "])\n",
    "\n",
    "model.compile(optimizer=Adam(learning_rate=1e-1),\n",
    "              loss='binary_crossentropy',\n",
    "              metrics=['accuracy'])\n",
    "\n",
    "model.fit(X_train, y_train, epochs=20, validation_data=(X_test, y_test))\n"
   ]
  }
 ],
 "metadata": {
  "kernelspec": {
   "display_name": "c138",
   "language": "python",
   "name": "python3"
  },
  "language_info": {
   "codemirror_mode": {
    "name": "ipython",
    "version": 3
   },
   "file_extension": ".py",
   "mimetype": "text/x-python",
   "name": "python",
   "nbconvert_exporter": "python",
   "pygments_lexer": "ipython3",
   "version": "3.13.3"
  }
 },
 "nbformat": 4,
 "nbformat_minor": 5
}
