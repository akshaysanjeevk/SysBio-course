{
 "cells": [
  {
   "cell_type": "code",
   "execution_count": 1,
   "id": "63a01a3b",
   "metadata": {},
   "outputs": [],
   "source": [
    "import numpy as np\n",
    "import matplotlib.pyplot as plt\n",
    "import pandas as pd\n",
    "import warnings\n",
    "warnings.filterwarnings(\"ignore\")\n",
    "plt.rcParams['text.usetex'] = True"
   ]
  },
  {
   "cell_type": "markdown",
   "id": "22ed7b8c",
   "metadata": {},
   "source": [
    "- Classification of same data using Artificial Neural Networks"
   ]
  },
  {
   "cell_type": "code",
   "execution_count": 2,
   "id": "adb80eee",
   "metadata": {},
   "outputs": [],
   "source": [
    "def dataGenerator(cells, genes, vary='mu', mu0=5, sd = 1, delta=.1):\n",
    "    x = np.zeros((genes, cells))\n",
    "    if vary == 'mu':\n",
    "        mu1, sd1 = mu0 - delta, sd\n",
    "        mu2, sd2 = mu0, sd\n",
    "        mu3, sd3 = mu0 + delta,sd\n",
    "    elif vary == 'sd':\n",
    "        mu1, sd1 = mu0-2, max(0.1, sd - delta)\n",
    "        mu2, sd2 = mu0, sd\n",
    "        mu3, sd3 = mu0+2, sd + delta\n",
    "        \n",
    "    x[:80,:] = np.random.normal(mu2, sd2, (80, 500))\n",
    "    x[80:, :250] = np.random.normal(mu1, sd1, (20, 250))\n",
    "    x[80:, 250:] = np.random.normal(mu3, sd3, (20, 250))\n",
    "    \n",
    "    return x"
   ]
  },
  {
   "cell_type": "code",
   "execution_count": 3,
   "id": "323fbc71",
   "metadata": {},
   "outputs": [],
   "source": [
    "data = pd.DataFrame(dataGenerator(500, 100, delta=2, vary='mu', sd=1).T)\n",
    "data.loc[:250, 'label'] = '0'\n",
    "data.loc[250:, 'label'] = '1'\n"
   ]
  },
  {
   "cell_type": "code",
   "execution_count": 4,
   "id": "c9832202",
   "metadata": {},
   "outputs": [
    {
     "data": {
      "text/plain": [
       "(500, 101)"
      ]
     },
     "execution_count": 4,
     "metadata": {},
     "output_type": "execute_result"
    }
   ],
   "source": [
    "data.shape"
   ]
  },
  {
   "cell_type": "markdown",
   "id": "4eddf3b8",
   "metadata": {},
   "source": [
    "# ANN "
   ]
  },
  {
   "cell_type": "code",
   "execution_count": 5,
   "id": "b1970379",
   "metadata": {},
   "outputs": [],
   "source": [
    "import pandas as pd\n",
    "import numpy as np\n",
    "from sklearn.model_selection import train_test_split\n",
    "from sklearn.preprocessing import StandardScaler\n",
    "from tensorflow.keras.models import Sequential\n",
    "from tensorflow.keras.layers import Dense\n",
    "from tensorflow.keras.utils import to_categorical\n",
    "from sklearn.metrics import confusion_matrix, ConfusionMatrixDisplay"
   ]
  },
  {
   "cell_type": "code",
   "execution_count": 7,
   "id": "4cbdb06d",
   "metadata": {},
   "outputs": [
    {
     "name": "stdout",
     "output_type": "stream",
     "text": [
      "Epoch 1/20\n",
      "13/13 - 1s - 67ms/step - accuracy: 0.5400 - loss: 1.2861 - val_accuracy: 0.6100 - val_loss: 1.0190\n",
      "Epoch 2/20\n",
      "13/13 - 0s - 8ms/step - accuracy: 0.6350 - loss: 0.8562 - val_accuracy: 0.6650 - val_loss: 0.7462\n",
      "Epoch 3/20\n",
      "13/13 - 0s - 9ms/step - accuracy: 0.7100 - loss: 0.6146 - val_accuracy: 0.7750 - val_loss: 0.5891\n",
      "Epoch 4/20\n",
      "13/13 - 0s - 9ms/step - accuracy: 0.8250 - loss: 0.4907 - val_accuracy: 0.8200 - val_loss: 0.4931\n",
      "Epoch 5/20\n",
      "13/13 - 0s - 8ms/step - accuracy: 0.9000 - loss: 0.4154 - val_accuracy: 0.8450 - val_loss: 0.4355\n",
      "Epoch 6/20\n",
      "13/13 - 0s - 9ms/step - accuracy: 0.9200 - loss: 0.3691 - val_accuracy: 0.8850 - val_loss: 0.3901\n",
      "Epoch 7/20\n",
      "13/13 - 0s - 9ms/step - accuracy: 0.9400 - loss: 0.3263 - val_accuracy: 0.9250 - val_loss: 0.3540\n",
      "Epoch 8/20\n",
      "13/13 - 0s - 14ms/step - accuracy: 0.9600 - loss: 0.2936 - val_accuracy: 0.9500 - val_loss: 0.3187\n",
      "Epoch 9/20\n",
      "13/13 - 0s - 10ms/step - accuracy: 0.9700 - loss: 0.2609 - val_accuracy: 0.9650 - val_loss: 0.2863\n",
      "Epoch 10/20\n",
      "13/13 - 0s - 10ms/step - accuracy: 0.9750 - loss: 0.2310 - val_accuracy: 0.9750 - val_loss: 0.2522\n",
      "Epoch 11/20\n",
      "13/13 - 0s - 8ms/step - accuracy: 0.9750 - loss: 0.1993 - val_accuracy: 0.9750 - val_loss: 0.2203\n",
      "Epoch 12/20\n",
      "13/13 - 0s - 8ms/step - accuracy: 0.9850 - loss: 0.1721 - val_accuracy: 0.9750 - val_loss: 0.1875\n",
      "Epoch 13/20\n",
      "13/13 - 0s - 11ms/step - accuracy: 0.9900 - loss: 0.1423 - val_accuracy: 0.9900 - val_loss: 0.1597\n",
      "Epoch 14/20\n",
      "13/13 - 0s - 10ms/step - accuracy: 0.9950 - loss: 0.1180 - val_accuracy: 0.9950 - val_loss: 0.1344\n",
      "Epoch 15/20\n",
      "13/13 - 0s - 9ms/step - accuracy: 1.0000 - loss: 0.0967 - val_accuracy: 0.9950 - val_loss: 0.1130\n",
      "Epoch 16/20\n",
      "13/13 - 0s - 10ms/step - accuracy: 1.0000 - loss: 0.0804 - val_accuracy: 0.9950 - val_loss: 0.0940\n",
      "Epoch 17/20\n",
      "13/13 - 0s - 10ms/step - accuracy: 1.0000 - loss: 0.0657 - val_accuracy: 0.9950 - val_loss: 0.0797\n",
      "Epoch 18/20\n",
      "13/13 - 0s - 9ms/step - accuracy: 1.0000 - loss: 0.0548 - val_accuracy: 0.9950 - val_loss: 0.0678\n",
      "Epoch 19/20\n",
      "13/13 - 0s - 9ms/step - accuracy: 1.0000 - loss: 0.0457 - val_accuracy: 1.0000 - val_loss: 0.0583\n",
      "Epoch 20/20\n",
      "13/13 - 0s - 9ms/step - accuracy: 1.0000 - loss: 0.0388 - val_accuracy: 1.0000 - val_loss: 0.0502\n",
      "\u001b[1m4/4\u001b[0m \u001b[32m━━━━━━━━━━━━━━━━━━━━\u001b[0m\u001b[37m\u001b[0m \u001b[1m0s\u001b[0m 10ms/step - accuracy: 1.0000 - loss: 0.0526\n",
      "Test Accuracy: 1.0000\n"
     ]
    }
   ],
   "source": [
    "X = data.iloc[:, :-1].values        \n",
    "y = data.iloc[:, -1].values      \n",
    "\n",
    "scaler = StandardScaler()\n",
    "X_scaled = scaler.fit_transform(X)\n",
    "\n",
    "n_classes = len(np.unique(y))\n",
    "y_encoded = to_categorical(y, num_classes=n_classes)\n",
    "\n",
    "X_train, X_test, y_train, y_test = train_test_split(X_scaled, y_encoded, test_size=0.2, random_state=42)\n",
    "\n",
    "model = Sequential([\n",
    "    Dense(10, activation='relu', input_shape=(100,)),\n",
    "    Dense(5, activation='relu'),\n",
    "    Dense(n_classes, activation='softmax')\n",
    "])\n",
    "\n",
    "model.compile(optimizer='adam', loss='categorical_crossentropy', metrics=['accuracy'])\n",
    "model.fit(X_train, y_train, epochs=20, batch_size=16, validation_split=0.5, verbose=2)\n",
    "\n",
    "loss, accuracy = model.evaluate(X_test, y_test)\n",
    "print(f\"Test Accuracy: {accuracy:.4f}\")\n"
   ]
  },
  {
   "cell_type": "code",
   "execution_count": null,
   "id": "bed77208",
   "metadata": {},
   "outputs": [
    {
     "name": "stdout",
     "output_type": "stream",
     "text": [
      "\u001b[1m4/4\u001b[0m \u001b[32m━━━━━━━━━━━━━━━━━━━━\u001b[0m\u001b[37m\u001b[0m \u001b[1m0s\u001b[0m 7ms/step \n"
     ]
    },
    {
     "data": {
      "image/png": "[encoded data removed]",
      "text/plain": [
       "<Figure size 640x480 with 2 Axes>"
      ]
     },
     "metadata": {},
     "output_type": "display_data"
    }
   ],
   "source": [
    "\n",
    "\n",
    "y_pred_probs = model.predict(X_test)\n",
    "\n",
    "y_pred = np.argmax(y_pred_probs, axis=1)\n",
    "y_true = np.argmax(y_test, axis=1)\n",
    "\n",
    "cm = confusion_matrix(y_true, y_pred)\n",
    "disp = ConfusionMatrixDisplay(confusion_matrix=cm)\n",
    "disp.plot(cmap='summer', values_format='d')\n",
    "plt.show()"
   ]
  }
 ],
 "metadata": {
  "kernelspec": {
   "display_name": "base",
   "language": "python",
   "name": "python3"
  },
  "language_info": {
   "codemirror_mode": {
    "name": "ipython",
    "version": 3
   },
   "file_extension": ".py",
   "mimetype": "text/x-python",
   "name": "python",
   "nbconvert_exporter": "python",
   "pygments_lexer": "ipython3",
   "version": "3.12.7"
  }
 },
 "nbformat": 4,
 "nbformat_minor": 5
}
