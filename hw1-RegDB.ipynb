{
 "cells": [
  {
   "cell_type": "code",
   "execution_count": 1,
   "metadata": {},
   "outputs": [],
   "source": [
    "import numpy as np\n",
    "import networkx as nx\n",
    "import matplotlib.pyplot as plt\n",
    "import pandas as pd\n",
    "import itertools\n",
    "plt.rcParams['text.usetex']=True"
   ]
  },
  {
   "cell_type": "markdown",
   "metadata": {},
   "source": [
    "# 0. Loading the data"
   ]
  },
  {
   "cell_type": "code",
   "execution_count": 2,
   "metadata": {},
   "outputs": [
    {
     "name": "stdout",
     "output_type": "stream",
     "text": [
      "(6975, 7)\n"
     ]
    }
   ],
   "source": [
    "pre_dfRegNet = pd.read_csv('tableData.csv')  \n",
    "dfRegNet = pre_dfRegNet[pd.notna(pre_dfRegNet['3)RegulatorGeneName'])] #dropping NaN \n",
    "print(dfRegNet.shape)"
   ]
  },
  {
   "cell_type": "markdown",
   "metadata": {},
   "source": [
    "- 0 `1)regulagtorID` = TF, node-A \n",
    "- 1 `2)regulaotorName` = TF's name. \n",
    "- 2 `3)RegulatorGeneName` = TF's gene's name, *A-label*\n",
    "- 3 `4)regulatedId` = gene regulated. node-B \n",
    "- 4 `5)regulatedName` = gene's name, *B-label*\n",
    "- 5 `6)funciton` = type of regylation\n",
    "- 6 `7)confidenceLevel` = confirmed/strong/weak/unknown"
   ]
  },
  {
   "cell_type": "code",
   "execution_count": 3,
   "metadata": {},
   "outputs": [
    {
     "name": "stdout",
     "output_type": "stream",
     "text": [
      "239\n"
     ]
    }
   ],
   "source": [
    "mutuals_genes = list(set(dfRegNet['3)RegulatorGeneName']) & set(dfRegNet['5)regulatedName']))\n",
    "print(len(mutuals_genes))"
   ]
  },
  {
   "cell_type": "markdown",
   "metadata": {},
   "source": [
    "In the original file from RegulonDB, there are some `NaN` values in the `3)RegulatorGeneName`. This is probably because we don't know which gene produces those particular transcription factos. Due to this we discarded such genes, otherwise we would need to create a `NaN` node in our network, which further complicate issues. \n",
    "<!-- \n",
    "The cell below checks for mutual elements in the genes responsible for production of TFs and the ones they regulate, and there are 239 such genes.  -->"
   ]
  },
  {
   "cell_type": "markdown",
   "metadata": {},
   "source": [
    "# 1. Directed graph of *E.coli* transcriptional regulatory network"
   ]
  },
  {
   "cell_type": "code",
   "execution_count": 4,
   "metadata": {},
   "outputs": [],
   "source": [
    "#DiGraph g\n",
    "regnet = dfRegNet.loc[:, ['3)RegulatorGeneName', '5)regulatedName']]\n",
    "g  = nx.DiGraph()\n",
    "g.add_edges_from(regnet.values)"
   ]
  },
  {
   "cell_type": "markdown",
   "metadata": {},
   "source": [
    "# 2. Basic Statistics"
   ]
  },
  {
   "cell_type": "code",
   "execution_count": 5,
   "metadata": {},
   "outputs": [
    {
     "name": "stdout",
     "output_type": "stream",
     "text": [
      "#Nodes = 2813\n",
      "#Edges = 6975\n",
      "#Self-loops = 153\n"
     ]
    }
   ],
   "source": [
    "print(f'#Nodes = {len(g.nodes)}')\n",
    "print(f'#Edges = {len(g.edges)}')\n",
    "print(f'#Self-loops = {nx.number_of_selfloops(g)}')"
   ]
  },
  {
   "cell_type": "code",
   "execution_count": 6,
   "metadata": {},
   "outputs": [
    {
     "name": "stdout",
     "output_type": "stream",
     "text": [
      "<in-degree> = 2.4795591894774263\n",
      "<out-degree> = 2.4795591894774263\n"
     ]
    }
   ],
   "source": [
    "in_degrees = [d for n, d in g.in_degree()]\n",
    "out_degrees = [d for n, d in g.out_degree()]\n",
    "\n",
    "print(f'<in-degree> = {np.mean(in_degrees)}')\n",
    "print(f'<out-degree> = {np.mean(out_degrees)}')"
   ]
  },
  {
   "cell_type": "code",
   "execution_count": 7,
   "metadata": {},
   "outputs": [
    {
     "data": {
      "text/plain": [
       "Text(0.5, 1.0, 'Out-degree Distribution')"
      ]
     },
     "execution_count": 7,
     "metadata": {},
     "output_type": "execute_result"
    },
    {
     "data": {
      "image/png": "[encoded data removed]",
      "text/plain": [
       "<Figure size 1000x400 with 2 Axes>"
      ]
     },
     "metadata": {},
     "output_type": "display_data"
    }
   ],
   "source": [
    "indg, indg_counts = np.unique(np.array(in_degrees), return_counts=True)\n",
    "outdg, outdg_counts = np.unique(np.array(out_degrees), return_counts=True)\n",
    "\n",
    "degreedist, axd = plt.subplots(1, 2, figsize=(10, 4))\n",
    "# plt.figure(figsize=(4, 4))\n",
    "axd[0].plot(indg, indg_counts,'x', color='blue', alpha=1)\n",
    "axd[0].set_yscale('log')  \n",
    "axd[0].set_xlabel(\"In-degree\")\n",
    "axd[0].set_ylabel(\"Frequency\")\n",
    "axd[0].set_title(\"In-degree Distribution\")\n",
    "\n",
    "axd[1].plot(outdg, outdg_counts,'o', color='red', alpha=0.5)\n",
    "axd[1].set_yscale('log')  \n",
    "axd[1].set_xlabel(\"Out-degree\")\n",
    "axd[1].set_title(\"Out-degree Distribution\")"
   ]
  },
  {
   "cell_type": "code",
   "execution_count": 8,
   "metadata": {},
   "outputs": [
    {
     "name": "stdout",
     "output_type": "stream",
     "text": [
      "Hubs: [('fur', 282), ('fnr', 326), ('lrp', 368), ('nac', 532), ('crp', 585)]\n"
     ]
    }
   ],
   "source": [
    "\n",
    "hub5 = sorted(g.out_degree(), key=lambda x: x[1])[-5:]\n",
    "print(f'Hubs: {hub5}')\n"
   ]
  },
  {
   "cell_type": "markdown",
   "metadata": {},
   "source": [
    "# 3. Three-Node Motifs"
   ]
  },
  {
   "cell_type": "code",
   "execution_count": 26,
   "metadata": {},
   "outputs": [],
   "source": [
    "\n",
    "def all_3_node_digraphs():\n",
    "    nodes = [0, 1, 2]\n",
    "    edge_list = [(0, 1), (0, 2), (1, 0), (1, 2), (2, 0), (2, 1)]\n",
    "    all_graphs = []\n",
    "\n",
    "    for edges in itertools.product([0, 1], repeat=6):\n",
    "        g = nx.DiGraph()\n",
    "        g.add_nodes_from(nodes)\n",
    "        for i, edge_here in enumerate(edges):\n",
    "            if edge_here:\n",
    "                g.add_edge(*edge_list[i])\n",
    "        all_graphs.append(g)\n",
    "\n",
    "    return all_graphs\n",
    "\n",
    "node3_digraphs = all_3_node_digraphs()"
   ]
  },
  {
   "cell_type": "code",
   "execution_count": null,
   "metadata": {},
   "outputs": [],
   "source": [
    "import matplotlib.pyplot as plt\n",
    "import networkx as nx\n",
    "from itertools import product\n",
    "\n",
    "# Define nodes and all directed edges excluding self-loops\n",
    "nodes = [0, 1, 2]\n",
    "edges = [(i, j) for i in nodes for j in nodes if i != j]  # 6 directed edges\n",
    "\n",
    "# Generate all 2^6 = 64 combinations of edges (presence/absence)\n",
    "edge_combinations = list(product([0, 1], repeat=len(edges)))\n",
    "\n",
    "# Set up 8x8 subplots\n",
    "fig, axl = plt.subplots(8, 8, figsize=(16, 16))\n",
    "axl = axl.flatten()\n",
    "\n",
    "for i, bits in enumerate(edge_combinations):\n",
    "    g = nx.DiGraph()\n",
    "    g.add_nodes_from(nodes)\n",
    "    g.add_edges_from([e for b, e in zip(bits, edges) if b])\n",
    "\n",
    "    ax = axl[i]\n",
    "    ax.set_axis_off()\n",
    "    # ax.set_title(f\"#{i + 1}\", fontsize=8)\n",
    "\n",
    "    pos = nx.circular_layout(g)\n",
    "    nx.draw_networkx_nodes(g, pos, ax=ax, node_color='lightblue', node_size=500)\n",
    "    nx.draw_networkx_labels(g, pos, ax=ax)\n",
    "\n",
    "    # Draw arrows with curved edges to distinguish direction\n",
    "    nx.draw_networkx_edges(\n",
    "        g, pos, ax=ax, arrows=True,\n",
    "        connectionstyle='arc3,rad=0.2',\n",
    "        arrowstyle='-|>', min_target_margin=5\n",
    "    )\n",
    "\n",
    "plt.tight_layout()\n",
    "plt.show()\n"
   ]
  },
  {
   "cell_type": "code",
   "execution_count": null,
   "metadata": {},
   "outputs": [
    {
     "ename": "NameError",
     "evalue": "name 'g' is not defined",
     "output_type": "error",
     "traceback": [
      "\u001b[0;31m---------------------------------------------------------------------------\u001b[0m",
      "\u001b[0;31mNameError\u001b[0m                                 Traceback (most recent call last)",
      "Cell \u001b[0;32mIn[1], line 8\u001b[0m\n\u001b[1;32m      5\u001b[0m \u001b[38;5;28;01mfrom\u001b[39;00m \u001b[38;5;21;01mconcurrent\u001b[39;00m\u001b[38;5;21;01m.\u001b[39;00m\u001b[38;5;21;01mfutures\u001b[39;00m \u001b[38;5;28;01mimport\u001b[39;00m ProcessPoolExecutor\n\u001b[1;32m      7\u001b[0m \u001b[38;5;66;03m# Make sure you have your main graph\u001b[39;00m\n\u001b[0;32m----> 8\u001b[0m G \u001b[38;5;241m=\u001b[39m \u001b[43mg\u001b[49m  \u001b[38;5;66;03m# assuming g is your existing DiGraph\u001b[39;00m\n\u001b[1;32m     10\u001b[0m \u001b[38;5;66;03m# Step 1: Extract all unique 3-node subgraphs (as node sets)\u001b[39;00m\n\u001b[1;32m     11\u001b[0m subgraph_node_sets \u001b[38;5;241m=\u001b[39m \u001b[38;5;28mlist\u001b[39m(itertools\u001b[38;5;241m.\u001b[39mcombinations(G\u001b[38;5;241m.\u001b[39mnodes, \u001b[38;5;241m3\u001b[39m))\n",
      "\u001b[0;31mNameError\u001b[0m: name 'g' is not defined"
     ]
    }
   ],
   "source": [
    "import networkx as nx\n",
    "import itertools\n",
    "from collections import Counter\n",
    "from tqdm import tqdm\n",
    "from concurrent.futures import ProcessPoolExecutor\n",
    "\n",
    "# Make sure you have your main graph\n",
    "G = g  # assuming g is your existing DiGraph\n",
    "\n",
    "# Step 1: Extract all unique 3-node subgraphs (as node sets)\n",
    "subgraph_node_sets = list(itertools.combinations(G.nodes, 3))\n",
    "\n",
    "# Step 2: Generate all 3-node directed motifs\n",
    "def generate_all_3_node_digraphs():\n",
    "    motifs = []\n",
    "    nodes = [0, 1, 2]\n",
    "    edge_list = [(0, 1), (0, 2), (1, 0), (1, 2), (2, 0), (2, 1)]\n",
    "    for edges in itertools.product([0, 1], repeat=6):\n",
    "        g = nx.DiGraph()\n",
    "        g.add_nodes_from(nodes)\n",
    "        for i, flag in enumerate(edges):\n",
    "            if flag:\n",
    "                g.add_edge(*edge_list[i])\n",
    "        motifs.append(g)\n",
    "    return motifs\n",
    "\n",
    "motif_types = generate_all_3_node_digraphs()\n",
    "\n",
    "# Step 3: Define a function to classify a subgraph\n",
    "def classify_subgraph(nodes):\n",
    "    sg = G.subgraph(nodes).copy()\n",
    "    for i, motif in enumerate(motif_types):\n",
    "        if nx.is_isomorphic(sg, motif): \n",
    "            return i\n",
    "    return None  # should not happen unless a bug\n",
    "\n",
    "# Step 4: Run in parallel\n",
    "with ProcessPoolExecutor() as executor:\n",
    "    motif_ids = list(tqdm(executor.map(classify_subgraph, subgraph_node_sets),\n",
    "                          total=len(subgraph_node_sets),\n",
    "                          desc=\"Parallel motif counting\"))\n",
    "\n",
    "# Step 5: Count and report\n",
    "motif_counts = Counter(motif_ids)\n",
    "for motif_id, count in motif_counts.items():\n",
    "    print(f\"Motif {motif_id}: {count} occurrences\")\n"
   ]
  }
 ],
 "metadata": {
  "kernelspec": {
   "display_name": "c137",
   "language": "python",
   "name": "python3"
  },
  "language_info": {
   "codemirror_mode": {
    "name": "ipython",
    "version": 3
   },
   "file_extension": ".py",
   "mimetype": "text/x-python",
   "name": "python",
   "nbconvert_exporter": "python",
   "pygments_lexer": "ipython3",
   "version": "3.12.4"
  }
 },
 "nbformat": 4,
 "nbformat_minor": 2
}
