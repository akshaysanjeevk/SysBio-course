{
 "cells": [
  {
   "cell_type": "code",
   "execution_count": 3,
   "metadata": {},
   "outputs": [],
   "source": [
    "import numpy as np\n",
    "import networkx as nx\n",
    "import matplotlib.pyplot as plt\n",
    "import pandas as pd"
   ]
  },
  {
   "cell_type": "code",
   "execution_count": 4,
   "metadata": {},
   "outputs": [],
   "source": [
    "pre_dfRegNet = pd.read_csv('tableData.csv')  \n",
    "# df = pre_dfRegNet[pd.notna(pre_dfRegNet['3)RegulatorGeneName'])] #dropping NaN \n"
   ]
  },
  {
   "cell_type": "markdown",
   "metadata": {},
   "source": [
    "- 0 `regulagtorID` = TF, node-A \n",
    "- 1 `regulaotorName` = TF's name. A-label\n",
    "- 3 `regulatedId` = gene regulated. node-B \n",
    "- 4 `regulatedName` = gene's name, B-label\n",
    "- 5 `funciton` = type of regylation\n",
    "- 6 `confidenceLevel` = confirmed/strong/weak/unknown"
   ]
  },
  {
   "cell_type": "markdown",
   "metadata": {},
   "source": [
    "Regulators and regulateds have unique IDs and there are no `Nan`s in that. But they don't have any mutual elements. But the cell below checks for mutual elements in the genes responsible for production of TFs and the ones they regulate, and there are 239 such genes. "
   ]
  },
  {
   "cell_type": "code",
   "execution_count": null,
   "metadata": {},
   "outputs": [
    {
     "name": "stdout",
     "output_type": "stream",
     "text": [
      "239\n",
      "['mprA', 'sgrR', 'phoP', 'mcbR', 'evgA', 'dicA', 'alaS', 'aaeR', 'gadE', 'mngR', 'cynR', 'nfeR', 'thrS', 'dpiA', 'decR', 'pnp', 'oxyR', 'rpoN', 'rplD', 'gadX', 'puuR', 'galS', 'melR', 'yeiL', 'marA', 'rstA', 'lexA', 'rprA', 'xylR', 'hfq', 'uvrY', 'hcaR', 'stpA', 'cspA', 'putA', 'uidR', 'mcaS', 'hipB', 'mlc', 'narL', 'murR', 'zntR', 'creB', 'cusR', 'ygiV', 'ibpA', 'cdaR', 'hdfR', 'allS', 'ttdR', 'rcsB', 'fliZ', 'lrp', 'plaR', 'nac', 'tdcR', 'lsrR', 'gutM', 'fur', 'rspR', 'iclR', 'exuR', 'lldR', 'fhlA', 'gadY', 'uhpU', 'uxuR', 'ryhB', 'mhpR', 'hicB', 'cytR', 'asnC', 'metR', 'zraR', 'paaX', 'sdiA', 'csqR', 'lacI', 'cbl', 'purR', 'citR', 'mqsA', 'yciT', 'soxS', 'rplA', 'ydaT', 'gcvA', 'cpxR', 'rob', 'hyfR', 'csrA', 'fimR2', 'higA', 'selB', 'metJ', 'rpsH', 'uhpA', 'rpsD', 'bolA', 'rplM', 'dgoR', 'leuO', 'pdhR', 'trpR', 'tyrR', 'soxR', 'arcZ', 'marR', 'malI', 'cyaR', 'srsR', 'cra', 'sgrS', 'cecR', 'narP', 'torR', 'hns', 'yafC', 'mazE', 'ydeO', 'srlR', 'agaR', 'treR', 'matA', 'nhaR', 'frmR', 'frlR', 'cadC', 'caiF', 'rplT', 'yfeC', 'rplY', 'fnrS', 'fis', 'rpsB', 'xynR', 'yefM', 'cpxQ', 'rhaS', 'rybB', 'sdhX', 'comR', 'nagC', 'fadR', 'micF', 'argR', 'adiY', 'acnB', 'mraZ', 'baeR', 'rpsG', 'omrA', 'motR', 'rpsA', 'pspF', 'arsR', 'rcnR', 'micC', 'yeiE', 'yieP', 'gcvB', 'ompR', 'pdeL', 'phoB', 'galR', 'appY', 'glnZ', 'idnR', 'csgD', 'rbsR', 'cysB', 'accB', 'sutR', 'bluR', 'malH', 'glpR', 'argP', 'dhaR', 'dksA', 'allR', 'fucR', 'yjjQ', 'rpmE', 'iscR', 'nimR', 'oxyS', 'omrB', 'nikR', 'rutR', 'azuR', 'rpsO', 'dnaA', 'dsrA', 'araC', 'crp', 'lysR', 'yebK', 'mgrR', 'mntR', 'dcuR', 'norR', 'fnr', 'nemR', 'acrR', 'betI', 'ilvY', 'aidB', 'malT', 'mlrA', 'dsdC', 'prpR', 'ydcI', 'glnG', 'yhaJ', 'slyA', 'arcA', 'spf', 'tdcA', 'deaD', 'chbR', 'rcdA', 'alsR', 'ascG', 'lrhA', 'kdgR', 'rhaR', 'feaR', 'ada', 'fliX', 'rne', 'yqhC', 'pepA', 'glcC', 'gadW', 'hprR', 'ydiP', 'relB', 'qseB', 'xapR']\n"
     ]
    }
   ],
   "source": [
    "mutualsNames = list(set(pre_dfRegNet[\"3)RegulatorGeneName\"]).intersection(set(pre_dfRegNet[\"5)regulatedName\"])))\n",
    "print(len(mutualsNames))\n",
    "print(mutualsNames)"
   ]
  },
  {
   "cell_type": "code",
   "execution_count": 11,
   "metadata": {},
   "outputs": [
    {
     "ename": "TypeError",
     "evalue": "'module' object is not callable",
     "output_type": "error",
     "traceback": [
      "\u001b[31m---------------------------------------------------------------------------\u001b[39m",
      "\u001b[31mTypeError\u001b[39m                                 Traceback (most recent call last)",
      "\u001b[36mCell\u001b[39m\u001b[36m \u001b[39m\u001b[32mIn[11]\u001b[39m\u001b[32m, line 2\u001b[39m\n\u001b[32m      1\u001b[39m regnet = pre_dfRegNet.loc[:, [\u001b[33m'\u001b[39m\u001b[33m3)RegulatorGeneName\u001b[39m\u001b[33m'\u001b[39m, \u001b[33m'\u001b[39m\u001b[33m5)regulatedName\u001b[39m\u001b[33m'\u001b[39m]]\n\u001b[32m----> \u001b[39m\u001b[32m2\u001b[39m g  = \u001b[43mnx\u001b[49m\u001b[43m.\u001b[49m\u001b[43mdigraph\u001b[49m\u001b[43m(\u001b[49m\u001b[43m)\u001b[49m\n\u001b[32m      3\u001b[39m g.add_edges_from(regnet.values)\n",
      "\u001b[31mTypeError\u001b[39m: 'module' object is not callable"
     ]
    }
   ],
   "source": [
    "regnet = pre_dfRegNet.loc[:, ['3)RegulatorGeneName', '5)regulatedName']]\n",
    "g  = nx.digraph()\n",
    "g.add_edges_from(regnet.values)"
   ]
  },
  {
   "cell_type": "markdown",
   "metadata": {},
   "source": [
    "# 1. Basic Statistics"
   ]
  },
  {
   "cell_type": "code",
   "execution_count": null,
   "metadata": {},
   "outputs": [],
   "source": []
  },
  {
   "cell_type": "code",
   "execution_count": null,
   "metadata": {},
   "outputs": [
    {
     "data": {
      "text/html": [
       "<div>\n",
       "<style scoped>\n",
       "    .dataframe tbody tr th:only-of-type {\n",
       "        vertical-align: middle;\n",
       "    }\n",
       "\n",
       "    .dataframe tbody tr th {\n",
       "        vertical-align: top;\n",
       "    }\n",
       "\n",
       "    .dataframe thead th {\n",
       "        text-align: right;\n",
       "    }\n",
       "</style>\n",
       "<table border=\"1\" class=\"dataframe\">\n",
       "  <thead>\n",
       "    <tr style=\"text-align: right;\">\n",
       "      <th></th>\n",
       "      <th>1)regulatorId</th>\n",
       "      <th>2)regulatorName</th>\n",
       "      <th>3)RegulatorGeneName</th>\n",
       "      <th>4)regulatedId</th>\n",
       "      <th>5)regulatedName</th>\n",
       "      <th>6)function</th>\n",
       "      <th>7)confidenceLevel</th>\n",
       "    </tr>\n",
       "  </thead>\n",
       "  <tbody>\n",
       "    <tr>\n",
       "      <th>0</th>\n",
       "      <td>RDBECOLICNC00063</td>\n",
       "      <td>ppGpp</td>\n",
       "      <td>NaN</td>\n",
       "      <td>RDBECOLIGNC00006</td>\n",
       "      <td>hisM</td>\n",
       "      <td>-</td>\n",
       "      <td>W</td>\n",
       "    </tr>\n",
       "    <tr>\n",
       "      <th>1</th>\n",
       "      <td>RDBECOLICNC00063</td>\n",
       "      <td>ppGpp</td>\n",
       "      <td>NaN</td>\n",
       "      <td>RDBECOLIGNC00030</td>\n",
       "      <td>agp</td>\n",
       "      <td>+</td>\n",
       "      <td>W</td>\n",
       "    </tr>\n",
       "    <tr>\n",
       "      <th>2</th>\n",
       "      <td>RDBECOLICNC00063</td>\n",
       "      <td>ppGpp</td>\n",
       "      <td>NaN</td>\n",
       "      <td>RDBECOLIGNC00039</td>\n",
       "      <td>cysQ</td>\n",
       "      <td>+</td>\n",
       "      <td>W</td>\n",
       "    </tr>\n",
       "    <tr>\n",
       "      <th>3</th>\n",
       "      <td>RDBECOLICNC00063</td>\n",
       "      <td>ppGpp</td>\n",
       "      <td>NaN</td>\n",
       "      <td>RDBECOLIGNC00065</td>\n",
       "      <td>argI</td>\n",
       "      <td>+</td>\n",
       "      <td>W</td>\n",
       "    </tr>\n",
       "    <tr>\n",
       "      <th>4</th>\n",
       "      <td>RDBECOLICNC00063</td>\n",
       "      <td>ppGpp</td>\n",
       "      <td>NaN</td>\n",
       "      <td>RDBECOLIGNC00067</td>\n",
       "      <td>argS</td>\n",
       "      <td>-</td>\n",
       "      <td>W</td>\n",
       "    </tr>\n",
       "    <tr>\n",
       "      <th>...</th>\n",
       "      <td>...</td>\n",
       "      <td>...</td>\n",
       "      <td>...</td>\n",
       "      <td>...</td>\n",
       "      <td>...</td>\n",
       "      <td>...</td>\n",
       "      <td>...</td>\n",
       "    </tr>\n",
       "    <tr>\n",
       "      <th>7278</th>\n",
       "      <td>RDBECOLITFC00239</td>\n",
       "      <td>DicD</td>\n",
       "      <td>dicD</td>\n",
       "      <td>RDBECOLIGNC00222</td>\n",
       "      <td>dicC</td>\n",
       "      <td>-</td>\n",
       "      <td>W</td>\n",
       "    </tr>\n",
       "    <tr>\n",
       "      <th>7279</th>\n",
       "      <td>RDBECOLITFC00240</td>\n",
       "      <td>YdiP</td>\n",
       "      <td>ydiP</td>\n",
       "      <td>RDBECOLIGNC00162</td>\n",
       "      <td>cspA</td>\n",
       "      <td>+</td>\n",
       "      <td>W</td>\n",
       "    </tr>\n",
       "    <tr>\n",
       "      <th>7280</th>\n",
       "      <td>RDBECOLITFC00240</td>\n",
       "      <td>YdiP</td>\n",
       "      <td>ydiP</td>\n",
       "      <td>RDBECOLIGNC02067</td>\n",
       "      <td>cspE</td>\n",
       "      <td>+</td>\n",
       "      <td>W</td>\n",
       "    </tr>\n",
       "    <tr>\n",
       "      <th>7281</th>\n",
       "      <td>RDBECOLITFC00241</td>\n",
       "      <td>YdaT</td>\n",
       "      <td>ydaT</td>\n",
       "      <td>RDBECOLIGNC00810</td>\n",
       "      <td>rcsA</td>\n",
       "      <td>+</td>\n",
       "      <td>W</td>\n",
       "    </tr>\n",
       "    <tr>\n",
       "      <th>7282</th>\n",
       "      <td>RDBECOLITFC00242</td>\n",
       "      <td>YegW</td>\n",
       "      <td>yegW</td>\n",
       "      <td>RDBECOLIGNC03970</td>\n",
       "      <td>yegT</td>\n",
       "      <td>-</td>\n",
       "      <td>S</td>\n",
       "    </tr>\n",
       "  </tbody>\n",
       "</table>\n",
       "<p>7283 rows × 7 columns</p>\n",
       "</div>"
      ],
      "text/plain": [
       "         1)regulatorId 2)regulatorName 3)RegulatorGeneName     4)regulatedId  \\\n",
       "0     RDBECOLICNC00063           ppGpp                 NaN  RDBECOLIGNC00006   \n",
       "1     RDBECOLICNC00063           ppGpp                 NaN  RDBECOLIGNC00030   \n",
       "2     RDBECOLICNC00063           ppGpp                 NaN  RDBECOLIGNC00039   \n",
       "3     RDBECOLICNC00063           ppGpp                 NaN  RDBECOLIGNC00065   \n",
       "4     RDBECOLICNC00063           ppGpp                 NaN  RDBECOLIGNC00067   \n",
       "...                ...             ...                 ...               ...   \n",
       "7278  RDBECOLITFC00239            DicD                dicD  RDBECOLIGNC00222   \n",
       "7279  RDBECOLITFC00240            YdiP                ydiP  RDBECOLIGNC00162   \n",
       "7280  RDBECOLITFC00240            YdiP                ydiP  RDBECOLIGNC02067   \n",
       "7281  RDBECOLITFC00241            YdaT                ydaT  RDBECOLIGNC00810   \n",
       "7282  RDBECOLITFC00242            YegW                yegW  RDBECOLIGNC03970   \n",
       "\n",
       "     5)regulatedName 6)function 7)confidenceLevel   \n",
       "0               hisM          -                 W   \n",
       "1                agp          +                 W   \n",
       "2               cysQ          +                 W   \n",
       "3               argI          +                 W   \n",
       "4               argS          -                 W   \n",
       "...              ...        ...                ...  \n",
       "7278            dicC          -                 W   \n",
       "7279            cspA          +                 W   \n",
       "7280            cspE          +                 W   \n",
       "7281            rcsA          +                 W   \n",
       "7282            yegT          -                  S  \n",
       "\n",
       "[7283 rows x 7 columns]"
      ]
     },
     "metadata": {},
     "output_type": "display_data"
    }
   ],
   "source": [
    "pre_dfRegNet"
   ]
  },
  {
   "cell_type": "code",
   "execution_count": 53,
   "metadata": {},
   "outputs": [],
   "source": [
    "TFs = np.unique(rgnetwork[:, 2]) #number of type-A nodes(TFs)\n",
    "GNs = np.unique(rgnetwork[:, 3])\n",
    "\n",
    "rednw = rgnetwork[:, 0]"
   ]
  },
  {
   "cell_type": "code",
   "execution_count": 54,
   "metadata": {},
   "outputs": [
    {
     "data": {
      "text/plain": [
       "(316,)"
      ]
     },
     "execution_count": 54,
     "metadata": {},
     "output_type": "execute_result"
    }
   ],
   "source": [
    "TFs.shape"
   ]
  },
  {
   "cell_type": "code",
   "execution_count": 52,
   "metadata": {},
   "outputs": [
    {
     "data": {
      "text/plain": [
       "(319,)"
      ]
     },
     "execution_count": 52,
     "metadata": {},
     "output_type": "execute_result"
    }
   ],
   "source": [
    "TFs.shape"
   ]
  },
  {
   "cell_type": "code",
   "execution_count": null,
   "metadata": {},
   "outputs": [
    {
     "name": "stdout",
     "output_type": "stream",
     "text": [
      "set()\n"
     ]
    }
   ],
   "source": [
    "def Est_inDegree(rgnetwork)"
   ]
  }
 ],
 "metadata": {
  "kernelspec": {
   "display_name": "c137",
   "language": "python",
   "name": "python3"
  },
  "language_info": {
   "codemirror_mode": {
    "name": "ipython",
    "version": 3
   },
   "file_extension": ".py",
   "mimetype": "text/x-python",
   "name": "python",
   "nbconvert_exporter": "python",
   "pygments_lexer": "ipython3",
   "version": "3.13.2"
  }
 },
 "nbformat": 4,
 "nbformat_minor": 2
}
