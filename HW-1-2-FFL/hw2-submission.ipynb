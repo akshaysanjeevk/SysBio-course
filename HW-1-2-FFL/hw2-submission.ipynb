{
 "cells": [
  {
   "cell_type": "code",
   "execution_count": 3,
   "metadata": {},
   "outputs": [],
   "source": [
    "import numpy as np\n",
    "import matplotlib.pyplot as plt\n",
    "# import util-fns\n",
    "\n",
    "plt.rcParams['text.usetex'] =  True"
   ]
  },
  {
   "cell_type": "markdown",
   "metadata": {},
   "source": [
    "# Homework #2\n",
    "Mangan, Shmoolik, and Uri Alon. \"Structure and function of the feed-forward loop network motif.\" Proceedings of the National Academy of Sciences 100.21 (2003): 11980-11985."
   ]
  },
  {
   "cell_type": "code",
   "execution_count": null,
   "metadata": {},
   "outputs": [],
   "source": [
    "def f(u, K, H, reg):\n",
    "    if reg == act or reg == 1:\n",
    "        return ((u/K)**H)/(1+(u/K)**H)\n",
    "    if reg == rep or reg == 0:\n",
    "        return 1/(1+(u/K)**H)\n",
    "\n",
    "def AND(x1, Kxz, y1, Kyz, H, regX, regY):\n",
    "    return f(x1, Kxz, H, regX)*f(y1, Kyz, H, regY)\n",
    "    \n",
    "def OR(x1, Kxz, y1, Kyz, H, regX, regY):\n",
    "    def fc(u, Ku, v, Kv, reg):\n",
    "        if reg==1 or reg==act:\n",
    "            return (u/Ku)**H/(1+ (u/Ku)**H + (v/Kv)**H)\n",
    "        if reg==0 or reg==rep:\n",
    "            return 1/(1+ (u/Ku)**H + (v/Kv)**H)\n",
    "    gate = fc(x1, Kxz, y1, Kyz, H, regX, regY) + fc(y1, Kyz, x1, Kxz, H, regX, regY)\n",
    "    return gate"
   ]
  }
 ],
 "metadata": {
  "kernelspec": {
   "display_name": "c137",
   "language": "python",
   "name": "python3"
  },
  "language_info": {
   "codemirror_mode": {
    "name": "ipython",
    "version": 3
   },
   "file_extension": ".py",
   "mimetype": "text/x-python",
   "name": "python",
   "nbconvert_exporter": "python",
   "pygments_lexer": "ipython3",
   "version": "3.12.4"
  }
 },
 "nbformat": 4,
 "nbformat_minor": 2
}
